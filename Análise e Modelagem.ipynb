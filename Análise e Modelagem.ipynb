{
 "cells": [
  {
   "cell_type": "markdown",
   "id": "9c12e32e",
   "metadata": {},
   "source": [
    "## Bibliotecas"
   ]
  },
  {
   "cell_type": "code",
   "execution_count": null,
   "metadata": {},
   "outputs": [],
   "source": [
    "#instala o pyodbc\n",
    "!pip install pyodbc"
   ]
  },
  {
   "cell_type": "code",
   "execution_count": null,
   "id": "8d85daca",
   "metadata": {},
   "outputs": [],
   "source": [
    "#importa pandas e pyodbc\n",
    "import pandas as pd\n",
    "import pyodbc"
   ]
  },
  {
   "cell_type": "code",
   "execution_count": 21,
   "id": "e7e5ced8",
   "metadata": {},
   "outputs": [
    {
     "name": "stdout",
     "output_type": "stream",
     "text": [
      "['SQL Server', 'SQL Server Native Client RDA 11.0', 'ODBC Driver 17 for SQL Server', 'ODBC Driver 18 for SQL Server']\n"
     ]
    }
   ],
   "source": [
    "print(pyodbc.drivers())"
   ]
  },
  {
   "cell_type": "markdown",
   "id": "e9ef2c68",
   "metadata": {
    "scrolled": true
   },
   "source": [
    "## Configurando conexão"
   ]
  },
  {
   "cell_type": "code",
   "execution_count": 30,
   "id": "779a4b23",
   "metadata": {},
   "outputs": [
    {
     "name": "stdout",
     "output_type": "stream",
     "text": [
      "Conexão bem sucedida!\n"
     ]
    }
   ],
   "source": [
    "# Conexão\n",
    "try:\n",
    "    dados_conexao = ('Driver={ODBC Driver 17 for SQL Server};'\n",
    "                      'Server=DESKTOP-9I30DAT;'\n",
    "                      'Database=ContosoRetailDW;'\n",
    "                      'Trusted_Connection=yes')\n",
    "    \n",
    "    conn = pyodbc.connect(dados_conexao)\n",
    "    \n",
    "    print(\"Conexão bem sucedida!\")\n",
    "except:\n",
    "    print(\"Conexão falhou\")\n",
    "    \n",
    "\n",
    "# 'Trusted_Connection=yes' loga no Servidor SQL com autenticação do windows"
   ]
  },
  {
   "cell_type": "markdown",
   "id": "cc5e9da8",
   "metadata": {},
   "source": [
    "## Criando nossa query"
   ]
  },
  {
   "cell_type": "code",
   "execution_count": 31,
   "id": "7b9ea8a7",
   "metadata": {},
   "outputs": [
    {
     "name": "stderr",
     "output_type": "stream",
     "text": [
      "C:\\Users\\PCvendas\\AppData\\Local\\Temp\\ipykernel_11676\\2610533454.py:6: UserWarning: pandas only supports SQLAlchemy connectable (engine/connection) or database string URI or sqlite3 DBAPI2 connection. Other DBAPI2 objects are not tested. Please consider using SQLAlchemy.\n",
      "  df = pd.read_sql(query, conn)\n"
     ]
    },
    {
     "data": {
      "text/html": [
       "<div>\n",
       "<style scoped>\n",
       "    .dataframe tbody tr th:only-of-type {\n",
       "        vertical-align: middle;\n",
       "    }\n",
       "\n",
       "    .dataframe tbody tr th {\n",
       "        vertical-align: top;\n",
       "    }\n",
       "\n",
       "    .dataframe thead th {\n",
       "        text-align: right;\n",
       "    }\n",
       "</style>\n",
       "<table border=\"1\" class=\"dataframe\">\n",
       "  <thead>\n",
       "    <tr style=\"text-align: right;\">\n",
       "      <th></th>\n",
       "      <th>ID da Venda</th>\n",
       "      <th>Data da Venda</th>\n",
       "      <th>Ano</th>\n",
       "      <th>Mês</th>\n",
       "      <th>ID do Produto</th>\n",
       "      <th>Nome do Produto</th>\n",
       "      <th>Nome do Canal</th>\n",
       "      <th>Nome da Categoria</th>\n",
       "      <th>Nome da Subcategoria</th>\n",
       "      <th>Preço Unitário</th>\n",
       "      <th>Qtd. Vendida</th>\n",
       "      <th>Faturamento</th>\n",
       "    </tr>\n",
       "  </thead>\n",
       "  <tbody>\n",
       "    <tr>\n",
       "      <th>0</th>\n",
       "      <td>1</td>\n",
       "      <td>02/01/2007</td>\n",
       "      <td>2007</td>\n",
       "      <td>January</td>\n",
       "      <td>956</td>\n",
       "      <td>A. Datum Point Shoot Digital Camera M500 Black</td>\n",
       "      <td>Store</td>\n",
       "      <td>Cameras and camcorders</td>\n",
       "      <td>Digital Cameras</td>\n",
       "      <td>198.0</td>\n",
       "      <td>8</td>\n",
       "      <td>1584.0</td>\n",
       "    </tr>\n",
       "    <tr>\n",
       "      <th>1</th>\n",
       "      <td>2</td>\n",
       "      <td>12/02/2007</td>\n",
       "      <td>2007</td>\n",
       "      <td>February</td>\n",
       "      <td>766</td>\n",
       "      <td>Contoso Battery charger - bike E200 Black</td>\n",
       "      <td>Reseller</td>\n",
       "      <td>Computers</td>\n",
       "      <td>Computers Accessories</td>\n",
       "      <td>19.9</td>\n",
       "      <td>4</td>\n",
       "      <td>79.6</td>\n",
       "    </tr>\n",
       "    <tr>\n",
       "      <th>2</th>\n",
       "      <td>3</td>\n",
       "      <td>24/01/2008</td>\n",
       "      <td>2008</td>\n",
       "      <td>January</td>\n",
       "      <td>1175</td>\n",
       "      <td>Fabrikam Budget Moviemaker 2/3'' 17mm E100 White</td>\n",
       "      <td>Store</td>\n",
       "      <td>Cameras and camcorders</td>\n",
       "      <td>Camcorders</td>\n",
       "      <td>410.0</td>\n",
       "      <td>9</td>\n",
       "      <td>3690.0</td>\n",
       "    </tr>\n",
       "    <tr>\n",
       "      <th>3</th>\n",
       "      <td>4</td>\n",
       "      <td>13/01/2008</td>\n",
       "      <td>2008</td>\n",
       "      <td>January</td>\n",
       "      <td>1429</td>\n",
       "      <td>The Phone Company Touch Screen Phones 4-Wire/O...</td>\n",
       "      <td>Online</td>\n",
       "      <td>Cell phones</td>\n",
       "      <td>Touch Screen Phones</td>\n",
       "      <td>289.0</td>\n",
       "      <td>8</td>\n",
       "      <td>2312.0</td>\n",
       "    </tr>\n",
       "    <tr>\n",
       "      <th>4</th>\n",
       "      <td>5</td>\n",
       "      <td>22/01/2008</td>\n",
       "      <td>2008</td>\n",
       "      <td>January</td>\n",
       "      <td>1133</td>\n",
       "      <td>Fabrikam SLR Camera 35\" X358 Blue</td>\n",
       "      <td>Online</td>\n",
       "      <td>Cameras and camcorders</td>\n",
       "      <td>Digital SLR Cameras</td>\n",
       "      <td>436.2</td>\n",
       "      <td>24</td>\n",
       "      <td>10468.8</td>\n",
       "    </tr>\n",
       "  </tbody>\n",
       "</table>\n",
       "</div>"
      ],
      "text/plain": [
       "   ID da Venda Data da Venda   Ano       Mês  ID do Produto   \n",
       "0            1    02/01/2007  2007   January            956  \\\n",
       "1            2    12/02/2007  2007  February            766   \n",
       "2            3    24/01/2008  2008   January           1175   \n",
       "3            4    13/01/2008  2008   January           1429   \n",
       "4            5    22/01/2008  2008   January           1133   \n",
       "\n",
       "                                     Nome do Produto Nome do Canal   \n",
       "0     A. Datum Point Shoot Digital Camera M500 Black         Store  \\\n",
       "1          Contoso Battery charger - bike E200 Black      Reseller   \n",
       "2   Fabrikam Budget Moviemaker 2/3'' 17mm E100 White         Store   \n",
       "3  The Phone Company Touch Screen Phones 4-Wire/O...        Online   \n",
       "4                  Fabrikam SLR Camera 35\" X358 Blue        Online   \n",
       "\n",
       "         Nome da Categoria   Nome da Subcategoria  Preço Unitário   \n",
       "0  Cameras and camcorders         Digital Cameras           198.0  \\\n",
       "1                Computers  Computers Accessories            19.9   \n",
       "2  Cameras and camcorders              Camcorders           410.0   \n",
       "3              Cell phones   Touch Screen Phones            289.0   \n",
       "4  Cameras and camcorders     Digital SLR Cameras           436.2   \n",
       "\n",
       "   Qtd. Vendida  Faturamento  \n",
       "0             8       1584.0  \n",
       "1             4         79.6  \n",
       "2             9       3690.0  \n",
       "3             8       2312.0  \n",
       "4            24      10468.8  "
      ]
     },
     "metadata": {},
     "output_type": "display_data"
    }
   ],
   "source": [
    "query = '''\n",
    "        select \n",
    "                * \n",
    "        from vw_base_previsao \n",
    "        '''\n",
    "df = pd.read_sql(query, conn)\n",
    "\n",
    "display(df.head(5))"
   ]
  },
  {
   "cell_type": "markdown",
   "id": "4a994739",
   "metadata": {},
   "source": [
    "## Encerrando conexão"
   ]
  },
  {
   "cell_type": "code",
   "execution_count": 32,
   "id": "0603d89f",
   "metadata": {},
   "outputs": [],
   "source": [
    "# encerrando a conexao\n",
    "conn.close()"
   ]
  }
 ],
 "metadata": {
  "kernelspec": {
   "display_name": "Python 3 (ipykernel)",
   "language": "python",
   "name": "python3"
  },
  "language_info": {
   "codemirror_mode": {
    "name": "ipython",
    "version": 3
   },
   "file_extension": ".py",
   "mimetype": "text/x-python",
   "name": "python",
   "nbconvert_exporter": "python",
   "pygments_lexer": "ipython3",
   "version": "3.10.10"
  }
 },
 "nbformat": 4,
 "nbformat_minor": 5
}
